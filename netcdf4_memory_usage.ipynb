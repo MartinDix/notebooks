{
 "cells": [
  {
   "cell_type": "code",
   "execution_count": null,
   "metadata": {},
   "outputs": [],
   "source": [
    "# Test using cj877 COSIMA DB with the ocean and atmosphere files\n",
    "import cosima_cookbook as cc\n",
    "import matplotlib.pyplot as plt\n",
    "import numpy as np\n",
    "import cmocean as cm\n",
    "import xarray as xr\n",
    "import netCDF4 as nc\n",
    "import glob\n",
    "\n",
    "%load_ext memory_profiler"
   ]
  },
  {
   "cell_type": "code",
   "execution_count": null,
   "metadata": {},
   "outputs": [],
   "source": [
    "session = cc.database.create_session('/g/data/p73/archive/non-CMIP/ACCESS-CM2/CM2.db')\n",
    "expt = 'cj877'"
   ]
  },
  {
   "cell_type": "code",
   "execution_count": null,
   "metadata": {},
   "outputs": [],
   "source": [
    "# Kieran's suggestion\n",
    "ncfiles = cc.querying._ncfiles_for_variable(\n",
    "        expt,\n",
    "        'fld_s03i236',\n",
    "        session,\n",
    "        end_time='0010-12-31',\n",
    ")\n",
    "\n",
    "ncfiles = list(str(f.NCFile.ncfile_path) for f in ncfiles)"
   ]
  },
  {
   "cell_type": "code",
   "execution_count": null,
   "metadata": {},
   "outputs": [],
   "source": [
    "%%memit \n",
    "alist = []\n",
    "for f in ncfiles:\n",
    "    ds = nc.Dataset(f)\n",
    "    arr = ds['fld_s03i236'][:]\n",
    "    alist.append(arr)\n",
    "    # ds.close()"
   ]
  },
  {
   "cell_type": "code",
   "execution_count": null,
   "metadata": {},
   "outputs": [],
   "source": [
    "%%memit \n",
    "# Single variable files\n",
    "alist = []\n",
    "for f in sorted(glob.glob('/g/data/tm70/mrd599/cj877_singlevar/cj877*nc')):\n",
    "    ds = nc.Dataset(f)\n",
    "    arr = ds['fld_s03i236'][:]\n",
    "    alist.append(arr)\n",
    "    # ds.close()"
   ]
  },
  {
   "cell_type": "code",
   "execution_count": null,
   "metadata": {},
   "outputs": [],
   "source": [
    "%%memit \n",
    "# 1x1 grid variable files\n",
    "alist = []\n",
    "for f in sorted(glob.glob('/g/data/tm70/mrd599/cj877_1x1/cj877*nc')):\n",
    "    ds = nc.Dataset(f)\n",
    "    arr = ds['fld_s03i236'][:]\n",
    "    alist.append(arr)\n",
    "    ds.close()"
   ]
  },
  {
   "cell_type": "markdown",
   "metadata": {},
   "source": []
  }
 ],
 "metadata": {
  "kernelspec": {
   "display_name": "Python 3 (ipykernel)",
   "language": "python",
   "name": "python3"
  },
  "language_info": {
   "codemirror_mode": {
    "name": "ipython",
    "version": 3
   },
   "file_extension": ".py",
   "mimetype": "text/x-python",
   "name": "python",
   "nbconvert_exporter": "python",
   "pygments_lexer": "ipython3",
   "version": "3.9.13"
  },
  "orig_nbformat": 4,
  "vscode": {
   "interpreter": {
    "hash": "916dbcbb3f70747c44a77c7bcd40155683ae19c65e1c03b4aa3499c5328201f1"
   }
  }
 },
 "nbformat": 4,
 "nbformat_minor": 2
}
