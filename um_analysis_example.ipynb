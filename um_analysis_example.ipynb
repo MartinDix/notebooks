{
 "cells": [
  {
   "cell_type": "markdown",
   "metadata": {},
   "source": [
    "Simple demonstration of plotting output from u-cp777 suite."
   ]
  },
  {
   "cell_type": "code",
   "execution_count": null,
   "metadata": {
    "vscode": {
     "languageId": "python"
    }
   },
   "outputs": [],
   "source": [
    "import xarray as xr\n",
    "import iris, iris.plot as iplt, iris.quickplot as qplt\n",
    "import cartopy.crs as ccrs\n",
    "import matplotlib.pyplot as plt\n",
    "%matplotlib inline"
   ]
  },
  {
   "cell_type": "code",
   "execution_count": null,
   "metadata": {
    "vscode": {
     "languageId": "python"
    }
   },
   "outputs": [],
   "source": [
    "d = xr.open_dataset('/scratch/p66/mrd599/cylc-run/u-cp777/work/1/atmos/atmosa.pe19810901.nc')"
   ]
  },
  {
   "cell_type": "code",
   "execution_count": null,
   "metadata": {
    "vscode": {
     "languageId": "python"
    }
   },
   "outputs": [],
   "source": [
    "for v in d.variables:\n",
    "    try:\n",
    "        print(v, d[v].long_name)\n",
    "    except AttributeError:\n",
    "        print(v)"
   ]
  },
  {
   "cell_type": "code",
   "execution_count": null,
   "metadata": {
    "vscode": {
     "languageId": "python"
    }
   },
   "outputs": [],
   "source": [
    "print(d.STASH_m01s03i236)"
   ]
  },
  {
   "cell_type": "code",
   "execution_count": null,
   "metadata": {
    "vscode": {
     "languageId": "python"
    }
   },
   "outputs": [],
   "source": [
    "fig = plt.figure()\n",
    "axes = plt.axes(projection=ccrs.PlateCarree(central_longitude=180))\n",
    "axes.coastlines(resolution='110m')\n",
    "d.STASH_m01s03i236[0].plot(transform=ccrs.PlateCarree())"
   ]
  },
  {
   "cell_type": "code",
   "execution_count": null,
   "metadata": {
    "vscode": {
     "languageId": "python"
    }
   },
   "outputs": [],
   "source": [
    "# Load the surface air temperature \n",
    "tas = iris.load_cube('/scratch/p66/mrd599/cylc-run/u-cp777/work/1/atmos/atmosa.pe19810901.nc', 'STASH_m01s03i236')"
   ]
  },
  {
   "cell_type": "code",
   "execution_count": null,
   "metadata": {
    "vscode": {
     "languageId": "python"
    }
   },
   "outputs": [],
   "source": [
    "fig = plt.figure()\n",
    "axes = plt.axes(projection=ccrs.PlateCarree(central_longitude=180))\n",
    "axes.coastlines(resolution='110m')\n",
    "iplt.pcolormesh(tas[0,0])"
   ]
  }
 ],
 "metadata": {
  "kernelspec": {
   "display_name": "Python [conda env:analysis3-22.07]",
   "language": "python",
   "name": "conda-env-analysis3-22.07-py"
  },
  "orig_nbformat": 4
 },
 "nbformat": 4,
 "nbformat_minor": 2
}
